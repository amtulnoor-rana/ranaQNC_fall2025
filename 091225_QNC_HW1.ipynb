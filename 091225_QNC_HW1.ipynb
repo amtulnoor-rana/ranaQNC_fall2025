{
  "metadata": {
    "kernelspec": {
      "name": "xpython",
      "display_name": "Python 3.13 (XPython)",
      "language": "python"
    },
    "language_info": {
      "file_extension": ".py",
      "mimetype": "text/x-python",
      "name": "python",
      "version": "3.13.1"
    }
  },
  "nbformat_minor": 5,
  "nbformat": 4,
  "cells": [
    {
      "id": "4246c627-019c-4b14-b6b6-96c0cd76819b",
      "cell_type": "code",
      "source": "import numpy as np \nimport random as rnd\nimport collections\nimport matplotlib.pyplot as plt\nimport time\nimport scipy.stats as st",
      "metadata": {
        "trusted": true
      },
      "outputs": [],
      "execution_count": 8
    },
    {
      "id": "64c453e9-702f-44b3-8d80-4ee6e6f6d65c",
      "cell_type": "code",
      "source": "#EXCERCISE 1\nn = 10   # total number of available quanta\np = 0.2  # probability a single quantum is released\n\nfor x in range(n + 1):  # We loop over all possible outcomes: 0 quanta, 1 quantum, 2 quanta, … up to all 10 quanta, x in our case ranges from 0 to 10\n    prob = st.binom.pmf(x, n, p)\n    print(f\"P({x} quanta released) = {prob:.5f}\")",
      "metadata": {
        "trusted": true
      },
      "outputs": [
        {
          "name": "stdout",
          "output_type": "stream",
          "text": "P(0 quanta released) = 0.10737\nP(1 quanta released) = 0.26844\nP(2 quanta released) = 0.30199\nP(3 quanta released) = 0.20133\nP(4 quanta released) = 0.08808\nP(5 quanta released) = 0.02642\nP(6 quanta released) = 0.00551\nP(7 quanta released) = 0.00079\nP(8 quanta released) = 0.00007\nP(9 quanta released) = 0.00000\nP(10 quanta released) = 0.00000\n"
        }
      ],
      "execution_count": 3
    },
    {
      "id": "fae1a500-9106-4381-98da-1bf05b371487",
      "cell_type": "code",
      "source": "#EXCERCISE 2\nn = 14      # number of quanta available\nx = 8       # observed quanta released\n\n# (1) & (2): check p=0.1 and p=0.7\np01 = st.binom.pmf(x, n, 0.1)\np07 = st.binom.pmf(x, n, 0.7)\nprint(f\"P(X=8 | p=0.1) = {p01:.8f}\")\nprint(f\"P(X=8 | p=0.7) = {p07:.8f}\")\n\n# (3): the \nprobs = [] #emplty list to store (p, likelihood) \nfor p in [i/10 for i in range(1, 11)]:  # Loops through all the probabilities from 0.1 to 1.0 in steps of 0.1\n    pr = st.binom.pmf(x, n, p) #Calls our binomial probability function\n    probs.append((p, pr)) #putting back into the list\n    print(f\"P(X=8 | p={p:.1f}) = {pr:.8f}\")\n\n# (4): find which decile is most likely\nbest_p, best_val = max(probs, key=lambda t: t[1])\nprint(f\"Most likely decile p given X=8: p={best_p:.1f} (likelihood={best_val:.8f})\")",
      "metadata": {
        "trusted": true
      },
      "outputs": [
        {
          "name": "stdout",
          "output_type": "stream",
          "text": "P(X=8 | p=0.1) = 0.00001596\nP(X=8 | p=0.7) = 0.12620227\nP(X=8 | p=0.1) = 0.00001596\nP(X=8 | p=0.2) = 0.00201528\nP(X=8 | p=0.3) = 0.02318001\nP(X=8 | p=0.4) = 0.09182116\nP(X=8 | p=0.5) = 0.18328857\nP(X=8 | p=0.6) = 0.20659761\nP(X=8 | p=0.7) = 0.12620227\nP(X=8 | p=0.8) = 0.03224447\nP(X=8 | p=0.9) = 0.00129269\nP(X=8 | p=1.0) = 0.00000000\nMost likely decile p given X=8: p=0.6 (likelihood=0.20659761)\n"
        }
      ],
      "execution_count": 5
    },
    {
      "id": "9fefeb55-fc58-4aff-a344-7a8d3e2b66f2",
      "cell_type": "code",
      "source": "#EXERCISE 3\n#You now have two independent experiments:\n#Trial 1: observed 8/14 released\n#Trial 2: observed 5/14 released\n#You want to know: If the true release probability was p=0.1 how likely are these results together?\nn = 14\np = 0.1   # assumed release probability\nx1, x2 = 8, 5  # your two observations\n\n# individual likelihoods\nL1 = st.binom.pmf(x1, n, p)\nL2 = st.binom.pmf(x2, n, p)\n\n# total likelihood = product\nL_total = L1 * L2\n\n# total log-likelihood = sum of logs\nlogL_total = np.log(L1) + np.log(L2)\n\nprint(f\"Likelihood for X=8: {L1:.8e}\")\nprint(f\"Likelihood for X=5: {L2:.8e}\")\nprint(f\"Total likelihood:   {L_total:.8e}\")\nprint(f\"Total log-likelihood: {logL_total:.8f}\")",
      "metadata": {
        "trusted": true
      },
      "outputs": [
        {
          "name": "stdout",
          "output_type": "stream",
          "text": "Likelihood for X=8: 1.59591732e-05\nLikelihood for X=5: 7.75615819e-03\nTotal likelihood:   1.23781872e-07\nTotal log-likelihood: -15.90474492\n"
        }
      ],
      "execution_count": 6
    },
    {
      "id": "5ed387d3-bced-4ecd-aa52-0e2d2bc8a2dc",
      "cell_type": "code",
      "source": "#EXERCISE 4\ncounts = {0:0,1:0,2:3,3:7,4:10,5:19,6:26,7:16,8:16,9:5,10:5,11:0,12:0,13:0,14:0}\nn = 14\n\ntotal_experiments = sum(counts.values())\ntotal_releases = sum(k * c for k, c in counts.items())\n\np_hat = total_releases / (n * total_experiments)\nprint(f\"Total experiments: {total_experiments}\")\nprint(f\"Total releases: {total_releases}\")\nprint(f\"p-hat = {p_hat:.2f}\")",
      "metadata": {
        "trusted": true
      },
      "outputs": [
        {
          "name": "stdout",
          "output_type": "stream",
          "text": "Total experiments: 107\nTotal releases: 653\np-hat = 0.44\n"
        }
      ],
      "execution_count": 7
    },
    {
      "id": "d7dbcdb0-12e0-4386-8d72-de7ca02479d0",
      "cell_type": "code",
      "source": "",
      "metadata": {
        "trusted": true
      },
      "outputs": [],
      "execution_count": null
    }
  ]
}